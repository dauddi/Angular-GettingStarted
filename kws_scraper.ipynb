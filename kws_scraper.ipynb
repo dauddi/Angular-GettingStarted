{
  "cells": [
    {
      "cell_type": "markdown",
      "metadata": {
        "id": "view-in-github",
        "colab_type": "text"
      },
      "source": [
        "<a href=\"https://colab.research.google.com/github/dauddi/Angular-GettingStarted/blob/master/kws_scraper.ipynb\" target=\"_parent\"><img src=\"https://colab.research.google.com/assets/colab-badge.svg\" alt=\"Open In Colab\"/></a>"
      ]
    },
    {
      "cell_type": "code",
      "execution_count": null,
      "metadata": {
        "id": "45zxLKsfm1dq"
      },
      "outputs": [],
      "source": [
        "import requests\n",
        "from bs4 import BeautifulSoup\n",
        "import json\n",
        "import re"
      ]
    },
    {
      "cell_type": "code",
      "execution_count": null,
      "metadata": {
        "id": "vANqfrPfrxVr"
      },
      "outputs": [],
      "source": [
        "def scrape_article(url):\n",
        "    response = requests.get(url)\n",
        "    soup = BeautifulSoup(response.text, 'html.parser')\n",
        "\n",
        "    text_content = \"\"\n",
        "    article_body = soup.find('div', class_='content-inner')\n",
        "    if article_body:\n",
        "        paragraphs = article_body.find_all('p')\n",
        "        for p in paragraphs:\n",
        "            text_content += p.text.strip() + \"\\n\"\n",
        "\n",
        "    # category = soup.find('span', class_='category').text.strip()\n",
        "\n",
        "    # publish_date = soup.find('span', class_='jeg_meta_date').text.strip()\n",
        "\n",
        "    title = soup.find('h1', class_='jeg_post_title').text.strip()\n",
        "\n",
        "    # tags = []\n",
        "    # tag_container = soup.find('ul', class_='tags')\n",
        "    # if tag_container:\n",
        "    #     tags = [tag.text.strip() for tag in tag_container.find_all('li')]\n",
        "\n",
        "    return {\n",
        "        \"title\": title,\n",
        "        \"url\": url,\n",
        "        \"text_content\": text_content,\n",
        "        # \"category\": category,\n",
        "        # \"publish_date\": publish_date,\n",
        "        # \"tags\": tags\n",
        "    }\n"
      ]
    },
    {
      "cell_type": "code",
      "execution_count": null,
      "metadata": {
        "colab": {
          "base_uri": "https://localhost:8080/"
        },
        "id": "buNjq3gTsCI6",
        "outputId": "ccb3f5be-f3a2-4922-d9a5-293877f8f05a"
      },
      "outputs": [
        {
          "name": "stdout",
          "output_type": "stream",
          "text": [
            "['https://kenyanwallstreet.com/kcb-confirms-sale-of-national-bank-to-access-bank/', 'https://kenyanwallstreet.com/epra-to-cut-frequency-of-blackouts/', 'https://kenyanwallstreet.com/national-bank-urges-calm-after-news-of-its-sale-by-kcb-group/', 'https://kenyanwallstreet.com/kenyas-vol-of-trade-ups-to-ksh-336-2bn-in-jan/', 'https://kenyanwallstreet.com/kengen-to-increase-olkaria-i-output-by-40/', 'https://kenyanwallstreet.com/nupea-to-spend-36b-on-kenyas-nuclear-power/', 'https://kenyanwallstreet.com/cbk-dhow-csd-wins-global-accolades/', 'https://kenyanwallstreet.com/moove-secures-100-m-from-investors/', 'https://kenyanwallstreet.com/online-casinos-and-blockchain-technologies-prospects-for-the-use-of-cryptocurrencies-and-smart-contracts/', 'https://kenyanwallstreet.com/4-electronic-certification-providers-licensed/', 'https://kenyanwallstreet.com/housing-levy-bill-becomes-law/', 'https://kenyanwallstreet.com/absa-posts-a-net-profit-of-ksh-16-4b/', 'https://kenyanwallstreet.com/un-dt-sacco-grows-loanbook-to-ksh-11-1b/', 'https://kenyanwallstreet.com/ukulima-sacco-to-pay-ksh-113-2m-in-dividends/', 'https://kenyanwallstreet.com/internet-disruptions-by-undersea-cable-cuts/', 'https://kenyanwallstreet.com/diaspora-remittances-drop-to-385-9-m/', 'https://kenyanwallstreet.com/a-guide-for-startups-on-navigating-the-funding-landscape-in-2024/', 'https://kenyanwallstreet.com/tiktok-usage-declined-in-q2-2023-24-cak/', 'https://kenyanwallstreet.com/kenya-airways-ramps-up-new-york-flights-to-9/', 'https://kenyanwallstreet.com/wp-content/uploads/2024/03/Screenshot-2024-03-18-at-08.57.35.png', 'https://kenyanwallstreet.com/13-artisanal-mining-sites-closed-in-marsabit/', 'https://kenyanwallstreet.com/undersea-cable-cuts-disrupt-internet-in-several-african-countries/', 'https://kenyanwallstreet.com/cbk-accepts-22-4b-at-weekly-t-bills-auction/', 'https://kenyanwallstreet.com/digital-economy-suffers-cyber-threat/', 'https://kenyanwallstreet.com/nissan-and-honda-sign-partnership-on-evs/', 'https://kenyanwallstreet.com/siraji-balance-sheet-grows-to-ksh-663-3m/', 'https://kenyanwallstreet.com/kra-revenue-service-assistants-net-180-6-m/', 'https://kenyanwallstreet.com/carbacid-makes-hy-net-profit-of-ksh-485-2m/', 'https://kenyanwallstreet.com/epra-makes-huge-cuts-in-march-april-review/', 'https://kenyanwallstreet.com/sasra-new-board-inaugurated/', 'https://kenyanwallstreet.com/bitcoin-what-it-is-and-how-it-works/', 'https://kenyanwallstreet.com/tiktok-ban-worries-bytedance-content-creators/', 'https://kenyanwallstreet.com/government-airbnb-differ-on-cctv-use-in-common-areas/', 'https://kenyanwallstreet.com/dimkes-net-surplus-increase/', 'https://kenyanwallstreet.com/government-in-ksh287-4b-deficit-to-implement-2023-2027-digital-plan/', 'https://kenyanwallstreet.com/united-traders-sacco-assets-hit-ksh-1-5b/', 'https://kenyanwallstreet.com/gig-workers-stranded-as-remotasks-exits-kenya/', 'https://kenyanwallstreet.com/changes-in-telkom-kenya-cuts-subscription/', 'https://kenyanwallstreet.com/how-to-generate-invoice-using-kras-etims-lite/', 'https://kenyanwallstreet.com/kigali-gears-up-for-2024-africa-ceo-forum/', 'https://kenyanwallstreet.com/stanchart-posts-kshs-13-8bn-profit-after-tax/', 'https://kenyanwallstreet.com/kenyans-go-cheaper-as-inflation-bites/', 'https://kenyanwallstreet.com/american-orders-85-boeing-737-max-10/', 'https://kenyanwallstreet.com/wp-content/uploads/2024/03/Screenshot-2024-03-12-at-13.16.32.png', 'https://kenyanwallstreet.com/andrew-barden-joins-fintak-board/', 'https://kenyanwallstreet.com/airbnb-bans-use-of-indoor-security-cameras/', 'https://kenyanwallstreet.com/us-sanctions-crown-bus-15-others-for-terror-financing/', 'https://kenyanwallstreet.com/652-jobs-cut-as-hair-manufacturing-ltd-acquires-style-industries/', 'https://kenyanwallstreet.com/kenya-bankers-association-ceo-habil-olaka-to-retire-in-march/', 'https://kenyanwallstreet.com/msmes-embrace-kbas-inuka-program-despite-persisting-challenges/', 'https://kenyanwallstreet.com/banking-sector-assets-hit-ksh-7-7trillion/', 'https://kenyanwallstreet.com/gok-directs-all-its-electronic-advertising-to-kbc/', 'https://kenyanwallstreet.com/egypt-devalues-currency-hikes-interest-rates/', 'https://kenyanwallstreet.com/lemfi-hires-ex-opay-coo-allen-qu-to-lead-china-expansion/', 'https://kenyanwallstreet.com/cbk-record-oversubscription-at-weekly-auction/', 'https://kenyanwallstreet.com/east-africa-growth-holding-gets-share-in-im/', 'https://kenyanwallstreet.com/kenya-woos-egyptian-investors-with-eu-trade-deal/', 'https://kenyanwallstreet.com/africa-fintech-summit-announces-first-roadshow-ahead-of-aftsnairobi-in-september/', 'https://kenyanwallstreet.com/tdb-smbc-citibank-jica-announce-eur-240m-deal/', 'https://kenyanwallstreet.com/bureau-veritas-takes-over-yana-oil-lab/', 'https://kenyanwallstreet.com/kra-launches-new-etims-for-informal-sector/', 'https://kenyanwallstreet.com/bamburi-cement-exits-ugandan-subsidiary/', 'https://kenyanwallstreet.com/cbk-issues-permits-to-19-more-digital-lenders/', 'https://kenyanwallstreet.com/east-african-cables-sells-majority-stake-in-tanzanian-unit/', 'https://kenyanwallstreet.com/uber-launches-premium-service-in-nairobi/', 'https://kenyanwallstreet.com/private-sector-absorbs-more-casual-workers/', 'https://kenyanwallstreet.com/stanbic-holdings-full-year-profit-hits-12-2-b/', 'https://kenyanwallstreet.com/cotton-farmers-to-receive-500-mt-of-seeds/', 'https://kenyanwallstreet.com/mobile-banking-triumphs-in-access-to-banking/', 'https://kenyanwallstreet.com/how-to-become-famous-on-facebook/', 'https://kenyanwallstreet.com/wp-content/uploads/2024/02/Buy-Facebook-Likes.jpg', 'https://kenyanwallstreet.com/wp-content/uploads/2024/02/Join-Popular-Groups.jpg', 'https://kenyanwallstreet.com/unga-group-posts-kshs-341-6mn-net-loss/', 'https://kenyanwallstreet.com/ceos-reluctant-to-change-business-models-despite-economic-challenges-pwc/', 'https://kenyanwallstreet.com/wp-content/uploads/2024/03/image.png', 'https://kenyanwallstreet.com/global-hr-company-deel-acquires-south-africas-payspace/', 'https://kenyanwallstreet.com/drc-plans-to-unlock-5bn-barrels-of-oil-with-exploration-and-export-deals/', 'https://kenyanwallstreet.com/tabasamu-dt-sacco-turnover-hits-207-3-million/', 'https://kenyanwallstreet.com/ethiopian-airlines-unveils-55-hub-in-africa/', 'https://kenyanwallstreet.com/best-real-money-online-casino-sites-in-kenya-top-5-casinos-rated-by-by-games-bonuses-payouts/', 'https://kenyanwallstreet.com/somalia-formalises-entry-to-eac/', 'https://kenyanwallstreet.com/kengen-posts-4-8-bn-profit-before-tax/', 'https://kenyanwallstreet.com/smallholder-farmers-on-insurance-backed-loans-less-likely-to-default-study/', 'https://kenyanwallstreet.com/cbk-accepts-22-9-b-at-weekly-t-bills-auction/', 'https://kenyanwallstreet.com/epra-proactivity-to-prevent-gas-tragedies/', 'https://kenyanwallstreet.com/food-prices-fell-lpg-prices-rose-in-february-knbs/', 'https://kenyanwallstreet.com/eu-parliament-approves-economic-partnership-with-kenya/', 'https://kenyanwallstreet.com/zambia-declares-national-disaster-amidst-food-and-energy-crises/', 'https://kenyanwallstreet.com/kenyan-agri-enterprises-top-sankalp-africa-2024-awards/', 'https://kenyanwallstreet.com/aatf-agri-all-africa-sign-pact-to-boost-hybrid-rice-production/', 'https://kenyanwallstreet.com/ugandas-microfinance-regulator-protests-move-to-ministry-of-finance/', 'https://kenyanwallstreet.com/kenya-wins-bid-to-host-2024-transform-africa-summit/', 'https://kenyanwallstreet.com/radisson-group-targets-50-expansion-in-west-and-central-by-2030/', 'https://kenyanwallstreet.com/centenary-sacco-pays-ksh-98-9m-to-members/', 'https://kenyanwallstreet.com/cbk-seeks-ksh-40-billion-in-feb-tap-sale/', 'https://kenyanwallstreet.com/equitel-launches-5g-service/', 'https://kenyanwallstreet.com/phoenix-beverages-acquires-minority-control-in-african-originals/', 'https://kenyanwallstreet.com/wp-content/uploads/2024/02/image-3.png', 'https://kenyanwallstreet.com/mastering-business-writing-a-students-guide/', 'https://kenyanwallstreet.com/safaricom-coop-approves-ksh-142-4m-rebare/', 'https://kenyanwallstreet.com/longhornmmakes-h1-net-loss-of-ksh-193-3m/', 'https://kenyanwallstreet.com/kra-nets-kshs-14-5-bn-in-tax-amnesty-programme/', 'https://kenyanwallstreet.com/nairobi-kampala-move-to-resolve-petroleum-imports-row/', 'https://kenyanwallstreet.com/uganda-parliament-pensions-scheme-to-reduce-equity-investments-in-kenya/', 'https://kenyanwallstreet.com/schneider-electric-kenya-appoints-ifeanyi-odoh-as-president/', 'https://kenyanwallstreet.com/bitcoin-and-ethereum-shaping-the-future-of-finance-together/', 'https://kenyanwallstreet.com/nyati-sacco-balance-sheet-grows-to-ksh-4-9b/', 'https://kenyanwallstreet.com/govt-agency-proposes-one-stop-one-go-centre-for-investors/', 'https://kenyanwallstreet.com/kcb-raises-interest-savings-account-to-7-5/', 'https://kenyanwallstreet.com/cbk-collects-ksh-67-1-billion-from-infrastructure-bond-sale/', 'https://kenyanwallstreet.com/safaricom-reverses-expiry-of-bonga-points/', 'https://kenyanwallstreet.com/cbk-seeks-ksh-25b-in-infrastructure-bond/', 'https://kenyanwallstreet.com/cbk-raises-ksh-11-8-b-from-2nd-t-bond-sale/', 'https://kenyanwallstreet.com/letshego-launches-letsgo-cash-with-creditinfo/', 'https://kenyanwallstreet.com/wp-content/uploads/2023/05/Adam-Kasaine.jpg', 'https://kenyanwallstreet.com/wp-content/uploads/2023/05/Kamau-Kunyiha.jpg', 'https://kenyanwallstreet.com/rutos-us-state-visit-needs-to-navigate-americas-uncertain-political-future/', 'https://kenyanwallstreet.com/kenya-powers-costs-increase-by-ksh-7-6b-records-ksh-319m-profit/', 'https://kenyanwallstreet.com/radio-consumption-high-in-south-nyanza-internet-big-in-nairobi-and-n-eastern/', 'https://kenyanwallstreet.com/wp-content/uploads/2024/02/Screenshot-2024-02-26-at-11.05.57.png', 'https://kenyanwallstreet.com/8-web-3-0-investors-in-africa-to-watch-out-for-in-2024/', 'https://kenyanwallstreet.com/disruptive-innovation-in-africas-digital-payments/', 'https://kenyanwallstreet.com/is-updating-your-portfolio-with-paypal-stocks-a-wise-move/', 'https://kenyanwallstreet.com/why-online-casinos-are-more-ecology-friendly-than-traditional-ones/', 'https://kenyanwallstreet.com/kenyas-financial-systems-grey-listed-by-international-crime-watchdog/', 'https://kenyanwallstreet.com/media-ad-spend-hits-ksh-16-billion-television-takes-lions-share/', 'https://kenyanwallstreet.com/kuscco-pushes-for-reforms-in-co-op-secrtor/', 'https://kenyanwallstreet.com/stanbic-ceo-eurobond-demand-reflects-investors-confidence-in-kenya/', 'https://kenyanwallstreet.com/asset-manager-blackrock-now-second-largest-shareholder-in-lake-turkana-wind-project/', 'https://kenyanwallstreet.com/visa-appoints-chad-pollock-new-general-manager-for-east-africa/', 'https://kenyanwallstreet.com/harambee-sacco-to-raise-ksh4b-in-shares-sale/', 'https://kenyanwallstreet.com/hefty-penalty-awaits-banks-in-new-cbk-draft-rules/', 'https://kenyanwallstreet.com/removal-of-visas-will-boost-intra-african-trade-economy/', 'https://kenyanwallstreet.com/government-spends-ksh-1-64trillion-in-h1-2023/', 'https://kenyanwallstreet.com/kebs-tightens-rules-on-used-electric-vehicles/', 'https://kenyanwallstreet.com/financing-clean-cooking-and-heating-solutions-in-kenya/', 'https://kenyanwallstreet.com/tv-stations-falter-radio-stations-improve-on-broadcast-standards-ca/', 'https://kenyanwallstreet.com/debt-fund-release-delay-hit-implementation-of-2023-4-budget/', 'https://kenyanwallstreet.com/kplc-surpasses-new-connections-targets-geothermal-constitutes-bulk-source-of-power/', 'https://kenyanwallstreet.com/equity-bank-adjusts-cost-of-credit-other-lenders-soon-to-follow/', 'https://kenyanwallstreet.com/saccos-offer-huge-returns-as-economy-suffers/', 'https://kenyanwallstreet.com/inside-kenyas-regulatory-environment-for-carbon-markets/', 'https://kenyanwallstreet.com/autopax-and-kofa-sign-deal-to-expand-electric-mobility/', 'https://kenyanwallstreet.com/frank-mwiti-appointed-new-ceo-of-nse/', 'https://kenyanwallstreet.com/prof-jeffrey-sachs-loan-terms-for-africa-dangerous/', 'https://kenyanwallstreet.com/kenya-to-resume-avocado-exports-this-march/', 'https://kenyanwallstreet.com/nairobi-county-transitions-businesses-to-one-business-permit/', 'https://kenyanwallstreet.com/kenya-debt-rises-to-ksh-11-1t-in-dec-2023/', 'https://kenyanwallstreet.com/startups-to-capitalize-on-incentives-at-trific-sez-innovation-hub/', 'https://kenyanwallstreet.com/kenya-govt-pending-bills-hit-ksh-539-9b-in-2023/', 'https://kenyanwallstreet.com/kenya-economy-to-grow-by-5-5-in-2024-treasury/', 'https://kenyanwallstreet.com/kengen-shareholders-receive-kshs-545mn-in-dividends/', 'https://kenyanwallstreet.com/what-experts-think-of-kenya-shillings-exchange-rates-fall/', 'https://kenyanwallstreet.com/kenyans-under-financial-duress-old-mutual-report/', 'https://kenyanwallstreet.com/bat-kenya-net-profit-drop-to-ksh-5-6b-on-tax/', 'https://kenyanwallstreet.com/kenya-airways-resumes-direct-flights-to-mogadishu/', 'https://kenyanwallstreet.com/kenya-shilling-continue-to-soar-against-us/', 'https://kenyanwallstreet.com/hospitality-sector-continues-recovery-challenges-in-hotel-management/', 'https://kenyanwallstreet.com/government-makes-new-appointments-to-krc-ketraco-others/', 'https://kenyanwallstreet.com/africa-finance-corporation-afc-appoints-emeka-emuwa-as-board-chair/', 'https://kenyanwallstreet.com/experts-identify-weak-links-in-eacs-leather-industry/', 'https://kenyanwallstreet.com/cabinet-approves-sale-of-development-bank-of-kenya-5-others/', 'https://kenyanwallstreet.com/cib-makes-29-7m-egyptian-pounds-in-net-profit/', 'https://kenyanwallstreet.com/epra-cuts-fuel-prices-by-ksh-1-per-litre/', 'https://kenyanwallstreet.com/showmax-2-0-receives-negative-market-reception/', 'https://kenyanwallstreet.com/cbk-floats-infrastructure-bond-worth-ksh-70b/', 'https://kenyanwallstreet.com/nairobi-landlords-prefer-rent-payment-in-us-dollars-survey/', 'https://kenyanwallstreet.com/roam-raises-24mn-in-series-a-funding/', 'https://kenyanwallstreet.com/uchumi-creditors-to-meet-this-feb/', 'https://kenyanwallstreet.com/kenya-issues-new-eurobond-reduces-2b-debt-default-chances/', 'https://kenyanwallstreet.com/owners-of-prime-apartments-reap-from-weak-shilling/', 'https://kenyanwallstreet.com/african-airlines-revenue-to-surge-in-2024-afraa/', 'https://kenyanwallstreet.com/digital-literacy-in-the-classroom-integrating-technology-for-enhanced-learning-and-writing/', 'https://kenyanwallstreet.com/cak-approves-merger-of-lake-turkana-wind-power-and-uk-firm/', 'https://kenyanwallstreet.com/eyes-on-epra-as-global-oil-prices-drop/', 'https://kenyanwallstreet.com/pan-african-payment-and-settlement-system-papss-expands-into-north-africa/', 'https://kenyanwallstreet.com/how-to-choose-a-casino-with-fast-withdrawals-and-its-advantages/', 'https://kenyanwallstreet.com/wp-content/uploads/2000/12/A1.png', 'https://kenyanwallstreet.com/is-sports-betting-doing-any-good-on-sports-five-ways-in-which-wagering-on-sports-benefits-the-sports-themselves/', 'https://kenyanwallstreet.com/shilling-depreciation-is-kenyas-opportunity-to-build-turnkey-investment-solutions/', 'https://kenyanwallstreet.com/cbk-expect-food-prices-to-drop-in-months/', 'https://kenyanwallstreet.com/hotels-forward-bookings-lower-than-previous-q1/', 'https://kenyanwallstreet.com/zetech-university-among-winners-at-africa-innovation-challenge/', 'https://kenyanwallstreet.com/cbk-survey-show-improved-prospects-in-q1-2024/', 'https://kenyanwallstreet.com/kenyan-banks-more-cautious-in-approving-loans-survey/', 'https://kenyanwallstreet.com/cbk-hikes-redemptions-to-ksh-48-5billion/', 'https://kenyanwallstreet.com/cib-to-use-kenya-as-bridge-to-sub-saharan-markets/', 'https://kenyanwallstreet.com/wp-content/uploads/2024/02/Hussein-Abaza.jpg', 'https://kenyanwallstreet.com/wp-content/uploads/2024/02/DSC_2339-min-scaled.jpg', 'https://kenyanwallstreet.com/cbk-wades-into-kuscco-probe-by-sasra/', 'https://kenyanwallstreet.com/private-firms-state-agencies-cling-to-ksh241b-unclaimed-assets/', 'https://kenyanwallstreet.com/kenya-plans-issuance-of-us-500mn-japanese-bond/', 'https://kenyanwallstreet.com/kenya-detected-1-2bn-cyber-threats-in-q4-2023/', 'https://kenyanwallstreet.com/saccos-engage-rebranding-gear-to-survive/', 'https://kenyanwallstreet.com/telcos-embrace-mobile-money-interoperability/', 'https://kenyanwallstreet.com/frank-molla-appointed-md-of-digital-payments-company-mdp-africa/', 'https://kenyanwallstreet.com/kenya-floats-tender-for-its2b-eurobond/', 'https://kenyanwallstreet.com/toyota-to-set-up-kshs-800mn-vehicle-manufacturing-plant-in-kenya/', 'https://kenyanwallstreet.com/nse-get-nod-to-run-a-hybrid-bond-trading-mart/', 'https://kenyanwallstreet.com/bangbet-the-ultimate-destination-for-sports-betting-and-casino-enthusiasts/', 'https://kenyanwallstreet.com/safaricom-mpesa-users-hit-3-1m-in-ethiopia/', 'https://kenyanwallstreet.com/shilling-likely-to-stabilise-against-us-dollar-cbk/', 'https://kenyanwallstreet.com/cbk-hikes-benchmark-rate-to-13/', 'https://kenyanwallstreet.com/kenya-airways-signs-code-sharing-agreement-with-air-europa/', 'https://kenyanwallstreet.com/pending-bills-committee-receives-claims-worth-over-ksh-146bn/', 'https://kenyanwallstreet.com/branch-solv-kenya-strike-market-linkages-deal-for-msmes/', 'https://kenyanwallstreet.com/land-price-per-acre-in-nairobi-crosses-ksh200mn-mark-hass-consult/', 'https://kenyanwallstreet.com/companies-hired-more-in-january-as-private-sector-activity-nears-stability/', 'https://kenyanwallstreet.com/airtel-africa-post-profit-of-2m-in-q3-2023/', 'https://kenyanwallstreet.com/bank-of-ghana-approves-rightcard-lemfi-to-operate-remittances-to-ghana/', 'https://kenyanwallstreet.com/multichoice-rejects-canal-plus-acquisition-offer/', 'https://kenyanwallstreet.com/kengen-signals-drop-in-power-prices/']\n"
          ]
        }
      ],
      "source": [
        "response = requests.get(\"https://kenyanwallstreet.com/post-sitemap1.xml\")\n",
        "\n",
        "sitemap = BeautifulSoup(response.text, 'xml')\n",
        "\n",
        "url_pattern = r'https?://\\S+'\n",
        "\n",
        "# urls = re.findall(url_pattern, sitemap)\n",
        "urls = [loc.text for loc in sitemap.find_all(\"loc\")]\n",
        "\n",
        "print(urls)"
      ]
    },
    {
      "cell_type": "code",
      "execution_count": null,
      "metadata": {
        "colab": {
          "base_uri": "https://localhost:8080/",
          "height": 332
        },
        "id": "PDY-6lVZsFa3",
        "outputId": "0c96b955-7eca-4d28-dc74-4cdd398761d4"
      },
      "outputs": [
        {
          "ename": "AttributeError",
          "evalue": "'NoneType' object has no attribute 'text'",
          "output_type": "error",
          "traceback": [
            "\u001b[0;31m---------------------------------------------------------------------------\u001b[0m",
            "\u001b[0;31mAttributeError\u001b[0m                            Traceback (most recent call last)",
            "\u001b[0;32m<ipython-input-20-735951f3a536>\u001b[0m in \u001b[0;36m<cell line: 4>\u001b[0;34m()\u001b[0m\n\u001b[1;32m      3\u001b[0m \u001b[0;34m\u001b[0m\u001b[0m\n\u001b[1;32m      4\u001b[0m \u001b[0;32mfor\u001b[0m \u001b[0murl\u001b[0m \u001b[0;32min\u001b[0m \u001b[0murls\u001b[0m\u001b[0;34m:\u001b[0m\u001b[0;34m\u001b[0m\u001b[0;34m\u001b[0m\u001b[0m\n\u001b[0;32m----> 5\u001b[0;31m     \u001b[0marticle_data\u001b[0m \u001b[0;34m=\u001b[0m \u001b[0mscrape_article\u001b[0m\u001b[0;34m(\u001b[0m\u001b[0murl\u001b[0m\u001b[0;34m)\u001b[0m\u001b[0;34m\u001b[0m\u001b[0;34m\u001b[0m\u001b[0m\n\u001b[0m\u001b[1;32m      6\u001b[0m     \u001b[0mscraped_data\u001b[0m\u001b[0;34m.\u001b[0m\u001b[0mappend\u001b[0m\u001b[0;34m(\u001b[0m\u001b[0marticle_data\u001b[0m\u001b[0;34m)\u001b[0m\u001b[0;34m\u001b[0m\u001b[0;34m\u001b[0m\u001b[0m\n\u001b[1;32m      7\u001b[0m \u001b[0;34m\u001b[0m\u001b[0m\n",
            "\u001b[0;32m<ipython-input-19-7c83616cb91a>\u001b[0m in \u001b[0;36mscrape_article\u001b[0;34m(url)\u001b[0m\n\u001b[1;32m     14\u001b[0m     \u001b[0;31m# publish_date = soup.find('span', class_='jeg_meta_date').text.strip()\u001b[0m\u001b[0;34m\u001b[0m\u001b[0;34m\u001b[0m\u001b[0m\n\u001b[1;32m     15\u001b[0m \u001b[0;34m\u001b[0m\u001b[0m\n\u001b[0;32m---> 16\u001b[0;31m     \u001b[0mtitle\u001b[0m \u001b[0;34m=\u001b[0m \u001b[0msoup\u001b[0m\u001b[0;34m.\u001b[0m\u001b[0mfind\u001b[0m\u001b[0;34m(\u001b[0m\u001b[0;34m'h1'\u001b[0m\u001b[0;34m,\u001b[0m \u001b[0mclass_\u001b[0m\u001b[0;34m=\u001b[0m\u001b[0;34m'jeg_post_title'\u001b[0m\u001b[0;34m)\u001b[0m\u001b[0;34m.\u001b[0m\u001b[0mtext\u001b[0m\u001b[0;34m.\u001b[0m\u001b[0mstrip\u001b[0m\u001b[0;34m(\u001b[0m\u001b[0;34m)\u001b[0m\u001b[0;34m\u001b[0m\u001b[0;34m\u001b[0m\u001b[0m\n\u001b[0m\u001b[1;32m     17\u001b[0m \u001b[0;34m\u001b[0m\u001b[0m\n\u001b[1;32m     18\u001b[0m     \u001b[0;31m# tags = []\u001b[0m\u001b[0;34m\u001b[0m\u001b[0;34m\u001b[0m\u001b[0m\n",
            "\u001b[0;31mAttributeError\u001b[0m: 'NoneType' object has no attribute 'text'"
          ]
        }
      ],
      "source": [
        "\n",
        "output_file = \"scraped_data.json\"\n",
        "scraped_data = []\n",
        "\n",
        "for url in urls:\n",
        "    article_data = scrape_article(url)\n",
        "    scraped_data.append(article_data)\n",
        "\n",
        "with open(output_file, 'a') as f:\n",
        "    json.dump(scraped_data, f, indent=4)\n",
        "\n",
        "print(\"Scraped data has been appended to\", output_file)"
      ]
    },
    {
      "cell_type": "code",
      "execution_count": null,
      "metadata": {
        "colab": {
          "background_save": true,
          "base_uri": "https://localhost:8080/"
        },
        "id": "TFPQlH1eyq38",
        "outputId": "f1be215d-1eb3-4ce7-a374-82bc7b9194ea"
      },
      "outputs": [
        {
          "name": "stdout",
          "output_type": "stream",
          "text": [
            "An error occurred while processing the URL https://kenyanwallstreet.com/wp-content/uploads/2023/08/image-1200x1100-1.png: 'NoneType' object has no attribute 'text'\n",
            "An error occurred while processing the URL https://kenyanwallstreet.com/wp-content/uploads/2023/08/Screenshot-2023-08-01-at-14.34.47.png: 'NoneType' object has no attribute 'text'\n",
            "An error occurred while processing the URL https://kenyanwallstreet.com/wp-content/uploads/2023/08/Screenshot-2023-08-01-at-14.35.11.png: 'NoneType' object has no attribute 'text'\n",
            "An error occurred while processing the URL https://kenyanwallstreet.com/wp-content/uploads/2023/07/CMA-Carbon-Markets.jpeg: 'NoneType' object has no attribute 'text'\n",
            "An error occurred while processing the URL https://kenyanwallstreet.com/wp-content/uploads/2023/07/AdobeStock_97709635.jpg: 'NoneType' object has no attribute 'text'\n",
            "An error occurred while processing the URL https://kenyanwallstreet.com/wp-content/uploads/2023/07/ATIDI.jpg: 'NoneType' object has no attribute 'text'\n",
            "An error occurred while processing the URL https://kenyanwallstreet.com/wp-content/uploads/2023/07/tr.png: 'NoneType' object has no attribute 'text'\n",
            "An error occurred while processing the URL https://kenyanwallstreet.com/wp-content/uploads/2020/06/Screenshot-2020-06-19-at-15.00.43.png: 'NoneType' object has no attribute 'text'\n",
            "An error occurred while processing the URL https://kenyanwallstreet.com/wp-content/uploads/2020/06/Fx_Pesa_15TH_June20.mp4: 'NoneType' object has no attribute 'text'\n",
            "An error occurred while processing the URL https://kenyanwallstreet.com/wp-content/uploads/2022/04/IC_9138-scaled.jpg: 'NoneType' object has no attribute 'text'\n",
            "An error occurred while processing the URL https://kenyanwallstreet.com/wp-content/uploads/2023/07/image-1.png: 'NoneType' object has no attribute 'text'\n",
            "An error occurred while processing the URL https://kenyanwallstreet.com/wp-content/uploads/2023/07/image.png: 'NoneType' object has no attribute 'text'\n",
            "Created a new file: scraped_data5.json\n"
          ]
        }
      ],
      "source": [
        "import requests\n",
        "from bs4 import BeautifulSoup\n",
        "import json\n",
        "import os.path\n",
        "\n",
        "def scrape_article(url):\n",
        "    try:\n",
        "        response = requests.get(url)\n",
        "        response.raise_for_status()  # Raise an exception for bad response status\n",
        "        soup = BeautifulSoup(response.text, 'html.parser')\n",
        "\n",
        "        text_content = \"\"\n",
        "        article_body = soup.find('div', class_='content-inner')\n",
        "        if article_body:\n",
        "            paragraphs = article_body.find_all('p')\n",
        "            for p in paragraphs:\n",
        "                text_content += p.text.strip() + \"\\n\"\n",
        "\n",
        "        title = soup.find('h1', class_='jeg_post_title').text.strip()\n",
        "\n",
        "        return {\n",
        "            \"title\": title,\n",
        "            \"url\": url,\n",
        "            \"text_content\": text_content,\n",
        "        }\n",
        "    except requests.exceptions.HTTPError as err:\n",
        "        print(f\"HTTP error occurred: {err}\")\n",
        "        return None\n",
        "    except Exception as e:\n",
        "        print(f\"An error occurred while processing the URL {url}: {e}\")\n",
        "        return None\n",
        "\n",
        "def append_to_json(data, file_path):\n",
        "    if os.path.isfile(file_path):\n",
        "        with open(file_path, 'r') as f:\n",
        "            existing_data = json.load(f)\n",
        "        existing_urls = {article['url'] for article in existing_data}\n",
        "        data_to_append = [article for article in data if article['url'] not in existing_urls]\n",
        "        if data_to_append:\n",
        "            with open(file_path, 'a') as f:\n",
        "                json.dump(data_to_append, f, indent=4)\n",
        "            print(f\"Appended {len(data_to_append)} new articles to {file_path}\")\n",
        "        else:\n",
        "            print(\"No new articles to append.\")\n",
        "    else:\n",
        "        with open(file_path, 'w') as f:\n",
        "            json.dump(data, f, indent=4)\n",
        "        print(f\"Created a new file: {file_path}\")\n",
        "\n",
        "sitemap_url = \"https://kenyanwallstreet.com/post-sitemap5.xml\"\n",
        "output_file = \"scraped_data5.json\"\n",
        "\n",
        "response = requests.get(sitemap_url)\n",
        "sitemap = BeautifulSoup(response.text, 'xml')\n",
        "\n",
        "urls = [loc.text for loc in sitemap.find_all(\"loc\")]\n",
        "\n",
        "scraped_data = []\n",
        "\n",
        "for url in urls:\n",
        "    article_data = scrape_article(url)\n",
        "    if article_data:\n",
        "        scraped_data.append(article_data)\n",
        "\n",
        "if scraped_data:\n",
        "    append_to_json(scraped_data, output_file)\n",
        "else:\n",
        "    print(\"No articles scraped.\")\n"
      ]
    }
  ],
  "metadata": {
    "colab": {
      "provenance": [],
      "authorship_tag": "ABX9TyNid0BGxtSMpbwU2oRhI1eb",
      "include_colab_link": true
    },
    "kernelspec": {
      "display_name": "Python 3",
      "name": "python3"
    },
    "language_info": {
      "name": "python"
    }
  },
  "nbformat": 4,
  "nbformat_minor": 0
}